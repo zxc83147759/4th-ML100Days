{
 "cells": [
  {
   "cell_type": "code",
   "execution_count": 1,
   "metadata": {
    "collapsed": true,
    "pycharm": {
     "is_executing": false
    }
   },
   "outputs": [
    {
     "data": {
      "text/plain": "<Figure size 432x288 with 1 Axes>",
      "image/png": "[encoded data removed]"
     },
     "metadata": {
      "needs_background": "light"
     },
     "output_type": "display_data"
    },
    {
     "name": "stdout",
     "text": [
      "The Mean absolute error is 11.074\n",
      "The Mean Square Error is 201.618\n"
     ],
     "output_type": "stream"
    }
   ],
   "source": [
    "import numpy as np\n",
    "import matplotlib.pyplot as plt\n",
    "\n",
    "def mean_absolute_error(y,yp):\n",
    "    mae=sum(abs(y-yp))/len(y)\n",
    "    return mae\n",
    "def mean_square_error(y,yp):\n",
    "    mse=sum(abs(y-yp)**2)/len(y)\n",
    "    return mse\n",
    "\n",
    "w,b=3,0.5\n",
    "x_lin = np.linspace(0,100,101)\n",
    "y = (x_lin + np.random.randn ( 101 ) * 5 ) * w + b\n",
    "#blue point\n",
    "plt.plot(x_lin,y,'b.',label='data points')\n",
    "#red line\n",
    "y_hat = x_lin * w + b\n",
    "\n",
    "plt.plot(x_lin,y_hat,'r-',label='prediction')\n",
    "plt.title('Assume we have data points (And the prediction)')\n",
    "plt.legend(loc=2)\n",
    "plt.show()\n",
    "\n",
    "MAE=mean_absolute_error(y,y_hat)\n",
    "MSE=mean_square_error(y,y_hat)\n",
    "\n",
    "print('The Mean absolute error is %.3f'%(MAE))\n",
    "print('The Mean Square Error is %.3f'%(MSE))"
   ]
  },
  {
   "cell_type": "markdown",
   "source": [
    "# [作業2]\n",
    "\n",
    "選擇資料:  \n",
    "Tourism Forecasting Part one  \n",
    "Tourism Forecasting Part Two\n",
    "\n",
    "Q:你選的這組資料為何重要  \n",
    "A:旅遊對人來說是一個轉換心情最好用的方法，用少量的金費和短途的旅遊，能夠給人帶來很大的翻轉。  \n",
    "\n",
    "Q:資料從何而來 (tips: 譬如提供者是誰、以什麼方式蒐集)  \n",
    "A:  \n",
    "1.提供者:Athanasopoulos, Hyndman, Song and Wu (2010)  \n",
    "2.資料都是由旅遊機構或在以前的旅遊預測研究中曾使用過它們的學者提供的。\n",
    "\n",
    "Q:蒐集而來的資料型態為何  \n",
    "A:結構化\n",
    "\n",
    "Q:這組資料想解決的問題如何評估  \n",
    "A:（一）僅關注旅遊數據；  \n",
    "  （二）包括具有解釋變量的方法；  \n",
    "  （三）評估了預測間隔的覆蓋範圍以及點預測的準確性；  \n",
    "  （四）觀察到時間匯總對預測準確性的影響；  \n",
    "  （五）認為絕對平均縮放誤差作為替代預測的準確性的措施。  \n",
    "\n",
    "\n",
    "# [作業3]\n",
    "想像你經營一個自由載客車隊，你希望能透過數據分析以提升業績，請你思考並描述你如何規劃整體的分析/解決方案：  \n",
    "\n",
    "Q:核心問題為何  \n",
    "A:當今天必須要再到一位客人時，對自身的審視和對人的態度都很重要，\n",
    "將這些好的一面呈現給客人看，他們就會去推薦你可以去當他們的司機，就能夠吸引到越多客人。  \n",
    "\n",
    "Q:資料從何而來  \n",
    "A:可以上網去參考一些比較資深且好評很多的人去向他們學習，或是直接去請教好評很多的司機。  \n",
    "\n",
    "Q:蒐集而來的資料型態為何  \n",
    "A:非結構型\n",
    "\n",
    "Q:你要回答的問題，其如何評估\n",
    "A:\n",
    "了解自身對以下問題的解答，如果答案是對大眾滿意程度還高的話，就能吸引到客人。\n",
    "1.對人的服務態度  \n",
    "2.對路程的了解程度  \n",
    "3.對自身的整潔程度  "
   ],
   "metadata": {
    "collapsed": false,
    "pycharm": {
     "name": "#%% md\n",
     "is_executing": false
    }
   }
  }
 ],
 "metadata": {
  "kernelspec": {
   "display_name": "Python 3",
   "language": "python",
   "name": "python3"
  },
  "language_info": {
   "codemirror_mode": {
    "name": "ipython",
    "version": 2
   },
   "file_extension": ".py",
   "mimetype": "text/x-python",
   "name": "python",
   "nbconvert_exporter": "python",
   "pygments_lexer": "ipython2",
   "version": "2.7.6"
  },
  "pycharm": {
   "stem_cell": {
    "cell_type": "raw",
    "source": [],
    "metadata": {
     "collapsed": false
    }
   }
  }
 },
 "nbformat": 4,
 "nbformat_minor": 0
}