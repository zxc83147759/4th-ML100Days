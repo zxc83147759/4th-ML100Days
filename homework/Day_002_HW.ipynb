{
 "cells": [
  {
   "cell_type": "markdown",
   "metadata": {
    "collapsed": true,
    "pycharm": {
     "name": "#%% md\n"
    }
   },
   "source": [
    "## 作業\n",
    "Q:請找出一個你認為機器學習可以發光發熱的領域並闡述原因?   \n",
    "A:醫學。  \n",
    "可以解決各種醫療領域的診斷，和預測後續發生的問題，\n",
    "還可以分析臨床實驗中的參數，和預測真正用到人體上所帶來的結果，\n",
    "也能夠適當的補足一些不完善的數據，還有對重症患者的資料進行解釋，並在患者的資料有很大的轉變時，提醒他的主治醫師進行檢查\n",
    "能夠幫助醫療上很事情，和減少醫療上的疏失。"
   ]
  }
 ],
 "metadata": {
  "kernelspec": {
   "display_name": "Python 3",
   "language": "python",
   "name": "python3"
  },
  "language_info": {
   "codemirror_mode": {
    "name": "ipython",
    "version": 2
   },
   "file_extension": ".py",
   "mimetype": "text/x-python",
   "name": "python",
   "nbconvert_exporter": "python",
   "pygments_lexer": "ipython2",
   "version": "2.7.6"
  },
  "pycharm": {
   "stem_cell": {
    "cell_type": "raw",
    "source": [],
    "metadata": {
     "collapsed": false
    }
   }
  }
 },
 "nbformat": 4,
 "nbformat_minor": 0
}