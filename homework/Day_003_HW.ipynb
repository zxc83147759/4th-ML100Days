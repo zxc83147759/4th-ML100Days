{
 "cells": [
  {
   "cell_type": "markdown",
   "metadata": {
    "collapsed": true,
    "pycharm": {
     "name": "#%% md\n"
    }
   },
   "source": [
    "## [作業]\n",
    "\n",
    "Q:專案的目標？ (要解決什麼問題）  \n",
    "A:用於估計遠處和被遮擋物的3D姿勢檢測問題  \n",
    "\n",
    "Q:使用的技術是？ (只需知道名稱即可，例如：使用 CNN 卷積神經網路做影像分類)  \n",
    "ZoomNet：用於3D對象檢測的部分感知自適應縮放神經網絡  \n",
    "Q:資料來源？\n",
    "https://www.leiphone.com/news/202003/EoW3oPObAPqIRdSd.html\n",
    "https://arxiv.org/abs/2003.00529v1\n",
    "\n"
   ]
  }
 ],
 "metadata": {
  "kernelspec": {
   "display_name": "Python 3",
   "language": "python",
   "name": "python3"
  },
  "language_info": {
   "codemirror_mode": {
    "name": "ipython",
    "version": 2
   },
   "file_extension": ".py",
   "mimetype": "text/x-python",
   "name": "python",
   "nbconvert_exporter": "python",
   "pygments_lexer": "ipython2",
   "version": "2.7.6"
  },
  "pycharm": {
   "stem_cell": {
    "cell_type": "raw",
    "source": [],
    "metadata": {
     "collapsed": false
    }
   }
  }
 },
 "nbformat": 4,
 "nbformat_minor": 0
}