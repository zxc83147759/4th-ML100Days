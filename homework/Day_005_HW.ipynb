{
 "cells": [
  {
   "cell_type": "markdown",
   "source": [
    "# [匯入必要檔案]"
   ],
   "metadata": {
    "collapsed": false,
    "pycharm": {
     "name": "#%% md\n"
    }
   }
  },
  {
   "cell_type": "code",
   "execution_count": null,
   "outputs": [],
   "source": [
    "from PIL import Image\n",
    "from io import BytesIO\n",
    "import matplotlib.pyplot as plt\n",
    "import requests\n",
    "import pandas as pd\n",
    "import random"
   ],
   "metadata": {
    "collapsed": false,
    "pycharm": {
     "name": "#%%\n"
    }
   }
  },
  {
   "cell_type": "markdown",
   "metadata": {
    "collapsed": true,
    "pycharm": {
     "name": "#%% md\n"
    }
   },
   "source": [
    "# [作業一]"
   ]
  },
  {
   "cell_type": "code",
   "source": [
    "group = ['china', 'taiwan', 'american']\n",
    "people = [(random.randint(1000, 9999)), (random.randint(1000, 9999)), (random.randint(1000, 9999))]\n",
    "dict1 = {'國家': group, '人口': people}\n",
    "select_df = pd.DataFrame(dict1)\n",
    "out_df = select_df['人口'].idxmax()\n",
    "print(select_df.iloc[out_df])"
   ],
   "metadata": {
    "collapsed": false,
    "pycharm": {
     "name": "#%%\n"
    }
   },
   "execution_count": null,
   "outputs": []
  },
  {
   "cell_type": "markdown",
   "source": [
    "# [作業二]"
   ],
   "metadata": {
    "collapsed": false,
    "pycharm": {
     "name": "#%% md\n"
    }
   }
  },
  {
   "cell_type": "code",
   "execution_count": null,
   "outputs": [],
   "source": [
    "url = 'https://raw.githubusercontent.com/vashineyu/slides_and_others/master/tutorial/examples/imagenet_urls_examples.txt'\n",
    "res_txt = requests.get(url)\n",
    "data = res_txt.text\n",
    "# 將符號轉換成空白\n",
    "data = data.replace('\\n', ' ')\n",
    "data = data.replace('\\t', ' ')\n",
    "# 利用轉換好的空白，製成list\n",
    "data = data.split(' ')\n",
    "# 將list壓縮成dict\n",
    "data = dict(zip(data[0::2], data[1::2]))\n",
    "# 轉換為DataFrame，columns為列名稱，預設是0、1、2、3\n",
    "df = pd.DataFrame(data.items(), columns=['ID', 'URL'])\n",
    "first_img_URL = df.iloc[0:5, 1]\n",
    "print('Total images that we got : %i' % (len(first_img_URL)))\n",
    "try:\n",
    "    for i in first_img_URL:\n",
    "        res_img = requests.get(i)\n",
    "        img = Image.open(BytesIO(res_img.content))\n",
    "        plt.imshow(img)\n",
    "        plt.show()\n",
    "except:\n",
    "    pass\n"
   ],
   "metadata": {
    "collapsed": false,
    "pycharm": {
     "name": "#%%\n"
    }
   }
  }
 ],
 "metadata": {
  "kernelspec": {
   "display_name": "Python 3",
   "language": "python",
   "name": "python3"
  },
  "language_info": {
   "codemirror_mode": {
    "name": "ipython",
    "version": 2
   },
   "file_extension": ".py",
   "mimetype": "text/x-python",
   "name": "python",
   "nbconvert_exporter": "python",
   "pygments_lexer": "ipython2",
   "version": "2.7.6"
  },
  "pycharm": {
   "stem_cell": {
    "cell_type": "raw",
    "source": [],
    "metadata": {
     "collapsed": false
    }
   }
  }
 },
 "nbformat": 4,
 "nbformat_minor": 0
}